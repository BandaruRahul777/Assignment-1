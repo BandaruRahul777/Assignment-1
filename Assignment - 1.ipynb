{
 "cells": [
  {
   "cell_type": "code",
   "execution_count": null,
   "id": "ecb42a48",
   "metadata": {},
   "outputs": [],
   "source": [
    "1 question"
   ]
  },
  {
   "cell_type": "code",
   "execution_count": null,
   "id": "06784c4a",
   "metadata": {},
   "outputs": [],
   "source": [
    "* is a expressionn\n",
    "'hello' is a value\n",
    "-87.8 is a value\n",
    "- is a expression\n",
    "/ is a expression\n",
    "+ is a expression\n",
    "6 is a value"
   ]
  },
  {
   "cell_type": "code",
   "execution_count": null,
   "id": "9d2333c9",
   "metadata": {},
   "outputs": [],
   "source": [
    "2 question"
   ]
  },
  {
   "cell_type": "code",
   "execution_count": null,
   "id": "0b766bf4",
   "metadata": {},
   "outputs": [],
   "source": [
    "A string is a data type which is used to represent a sequence of characters, such as \"hello\" or \"789\".\n",
    "It is basically used to store and manipulate textual data.\n",
    "\n",
    "A variable is nothing but a kind of entity where you can store a data which you can process in a runtime.\n",
    "Variables can hold different types of data, including strings, numbers, booleans."
   ]
  },
  {
   "cell_type": "code",
   "execution_count": null,
   "id": "2b33fe2a",
   "metadata": {},
   "outputs": [],
   "source": [
    "3 question"
   ]
  },
  {
   "cell_type": "code",
   "execution_count": null,
   "id": "61a3ecc3",
   "metadata": {},
   "outputs": [],
   "source": [
    "Integer - An integer data type represents whole numbers without any fractional or decimal parts.\n",
    "It includes positive numbers, negative numbers, and zero.\n",
    "Integers are used for tasks that involve counting, indexing, or representing discrete quantities.\n",
    "Ex. of integers are -: -1, 0, and 72.\n",
    "\n",
    "String - A string data type represents a sequence of characters.\n",
    "It is used to store and manipulate textual data.\n",
    "Strings are typically enclosed in quotation marks (single or double) to differentiate them from other data types.\n",
    "Ex. of strings are -: \"Hello, world!\", \"Practice of Python\", and \"007\".\n",
    "    \n",
    "Boolean - A boolean data type represents a logical value that can be either true or false.\n",
    "Booleans are often used in programming to control flow and make decisions based on conditions.\n",
    "They are useful for expressing the truth value of an expression or a comparison.\n",
    "Ex. of boolean values are -: true and false."
   ]
  },
  {
   "cell_type": "code",
   "execution_count": null,
   "id": "17965422",
   "metadata": {},
   "outputs": [],
   "source": [
    "4 Question"
   ]
  },
  {
   "cell_type": "code",
   "execution_count": null,
   "id": "dbefbdb5",
   "metadata": {},
   "outputs": [],
   "source": [
    "An expression is a combination of values, variables, operators & calls to functions that can be evaluated to produce a result.\n",
    "Expressions can be simple or complex & they can involve in various elements such as :-\n",
    "\n",
    "Values: These are constants or literal data, such as numbers (e.g., 36, 7.62) or strings (e.g., \"rahul\").\n",
    "Values are the basic base of expressions.\n",
    "\n",
    "Variables: Variables are used to store and represent data. They hold values that can be manipulated within expressions.\n",
    "For example, if you have a variable named \"r,\" you can use it in an expression like \"2 * r\" to perform calculations.\n",
    "\n",
    "Operators: Operators perform specific operations on values or variables.\n",
    "They can be arithmetic operators (e.g., + for addition, - for subtraction), comparison operators\n",
    "(e.g., < for less than, == for equality), logical operators (e.g., && for logical AND, || for logical OR), and more.\n",
    "Operators help combine values and variables in meaningful ways.\n",
    "\n",
    "Function calls: Functions are reusable blocks of code that perform specific tasks.\n",
    "Within expressions, you can call functions to perform computations or transformations on values.\n",
    "For example, \"sqrt(9)\" calls the square root function on the value 9."
   ]
  },
  {
   "cell_type": "code",
   "execution_count": null,
   "id": "7d052e29",
   "metadata": {},
   "outputs": [],
   "source": [
    "5 Question"
   ]
  },
  {
   "cell_type": "code",
   "execution_count": null,
   "id": "4195f37e",
   "metadata": {},
   "outputs": [],
   "source": [
    "The difference between an expression and a statement lies in their purpose and the way they are used within a program.\n",
    "\n",
    "An expression is a combination of values, variables, operators, and function calls that can be evaluated to produce a value.\n",
    "Expressions are used to perform calculations, recover data, or manipulate values.\n",
    "They can be as simple as a single value or as complex as a combination of multiple operations.\n",
    "Expressions always produce a result when evaluated.\n",
    "\n",
    "A statement is a complete instruction or action that performs a specific task or operation within a program.\n",
    "Statements can include expressions as part of their execution, but they also go beyond just producing a value.\n",
    "Statements can change the state of a program, control the flow of execution."
   ]
  },
  {
   "cell_type": "code",
   "execution_count": null,
   "id": "58788edf",
   "metadata": {},
   "outputs": [],
   "source": [
    "6 Question"
   ]
  },
  {
   "cell_type": "code",
   "execution_count": null,
   "id": "b1494f88",
   "metadata": {},
   "outputs": [],
   "source": [
    "After running the given code, the variable \"bacon\" would still contain the original value of 22.\n",
    "\n",
    "'bacon = 22' :- This line assigns the value 22 to the variable \"bacon.\" So, initially, \"bacon\" holds the value 22.\n",
    "    \n",
    "'bacon + 1' :- This line is an expression that adds 1 to the value stored in the variable \"bacon.\"\n",
    "However, this expression does not modify the value of \"bacon\" itself or update the variable.\n",
    "It just performs the calculation, but the result is not stored or assigned to any variable."
   ]
  },
  {
   "cell_type": "code",
   "execution_count": null,
   "id": "1b2600e2",
   "metadata": {},
   "outputs": [],
   "source": [
    "7 Question"
   ]
  },
  {
   "cell_type": "code",
   "execution_count": null,
   "id": "9e666142",
   "metadata": {},
   "outputs": [],
   "source": [
    "1 - 'spam' + 'spamspam':\n",
    "It performs a string concatenation. It combines the string 'spam' with the string 'spamspam'.\n",
    "The result is a new string: 'spamspamspam'.\n",
    "So, the value of this term is 'spamspamspam'.\n",
    "    \n",
    "2 - 'spam' * 3:\n",
    "It performs string repetition. It repeats the string 'spam' three times.\n",
    "The result is a new string: 'spamspamspam'.\n",
    "So, the value of this term is also 'spamspamspam'."
   ]
  },
  {
   "cell_type": "code",
   "execution_count": null,
   "id": "1c4d5f57",
   "metadata": {},
   "outputs": [],
   "source": [
    "8 Question"
   ]
  },
  {
   "cell_type": "code",
   "execution_count": null,
   "id": "447519aa",
   "metadata": {},
   "outputs": [],
   "source": [
    "In Python, variable names must start with a letter (a-z, A-Z) or an underscore (_).\n",
    "They cannot begin with a digit. Since \"eggs\" starts with a letter, it is a valid variable name.\n",
    "\n",
    "\"100\" starts with a digit, violating the rule that variable names should begin with a letter or underscore.\n",
    "It is not a valid variable name because it does not meet the naming conventions."
   ]
  },
  {
   "cell_type": "code",
   "execution_count": null,
   "id": "98c44526",
   "metadata": {},
   "outputs": [],
   "source": [
    "9 Question"
   ]
  },
  {
   "cell_type": "code",
   "execution_count": 11,
   "id": "68066df5",
   "metadata": {},
   "outputs": [
    {
     "name": "stdout",
     "output_type": "stream",
     "text": [
      "76\n"
     ]
    }
   ],
   "source": [
    "value = '76'\n",
    "integer_value = int(value)\n",
    "print(integer_value)"
   ]
  },
  {
   "cell_type": "code",
   "execution_count": 10,
   "id": "a80d343a",
   "metadata": {},
   "outputs": [
    {
     "name": "stdout",
     "output_type": "stream",
     "text": [
      "9.99\n"
     ]
    }
   ],
   "source": [
    "value = '9.99'\n",
    "float_value = float(value)\n",
    "print(float_value)"
   ]
  },
  {
   "cell_type": "code",
   "execution_count": 9,
   "id": "e7966843",
   "metadata": {},
   "outputs": [
    {
     "name": "stdout",
     "output_type": "stream",
     "text": [
      "22\n"
     ]
    }
   ],
   "source": [
    "value = 22\n",
    "string_value = str(value)\n",
    "print(string_value)"
   ]
  },
  {
   "cell_type": "code",
   "execution_count": null,
   "id": "896355e2",
   "metadata": {},
   "outputs": [],
   "source": [
    "10 Question"
   ]
  },
  {
   "cell_type": "code",
   "execution_count": null,
   "id": "8319b6f0",
   "metadata": {},
   "outputs": [],
   "source": [
    "The expression 'I have eaten ' + 99 + ' burritos.' causes an error because you are trying to concatenate a string\n",
    "('I have eaten ') with an integer (99) without converting the integer to a string first.\n",
    "In Python, you cannot directly concatenate different data types.\n",
    "\n",
    "To fix this error, you need to convert the integer 99 to a string before concatenating it with the other strings.\n",
    "To do this by using the str() function to convert the integer to its string representation.\n",
    "\n",
    "The Fixed Expression is mentioned below :-"
   ]
  },
  {
   "cell_type": "code",
   "execution_count": 12,
   "id": "abeb84f7",
   "metadata": {},
   "outputs": [
    {
     "data": {
      "text/plain": [
       "'I have eaten 99 burritos.'"
      ]
     },
     "execution_count": 12,
     "metadata": {},
     "output_type": "execute_result"
    }
   ],
   "source": [
    "'I have eaten ' + str(99) + ' burritos.'"
   ]
  }
 ],
 "metadata": {
  "kernelspec": {
   "display_name": "Python 3 (ipykernel)",
   "language": "python",
   "name": "python3"
  },
  "language_info": {
   "codemirror_mode": {
    "name": "ipython",
    "version": 3
   },
   "file_extension": ".py",
   "mimetype": "text/x-python",
   "name": "python",
   "nbconvert_exporter": "python",
   "pygments_lexer": "ipython3",
   "version": "3.9.7"
  }
 },
 "nbformat": 4,
 "nbformat_minor": 5
}
